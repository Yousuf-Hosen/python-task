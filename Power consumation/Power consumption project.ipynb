{
 "cells": [
  {
   "cell_type": "markdown",
   "metadata": {},
   "source": [
    "# ENGR 1330 – Computational Thinking and Data Science"
   ]
  },
  {
   "cell_type": "markdown",
   "metadata": {},
   "source": [
    "## Power consumption Final Project \n",
    "\n",
    "Power consumption in different zones in a city area can be affected by weather parameters, the landscape and the type of occupancy (residential/industrial etc). In this project, we will analyze the data of power consumtion for year 2017 in 3 different zones in a city named Tetuan in Morocco. We will find three best fitted data models to predict the power consumptions in the three different zones. \n",
    "\n",
    "\n",
    "## Objective(s):\n",
    "- Literature scan on power consumption in city areas and how the atmospheric and landscape conditions affect total power consumption \n",
    "- Analyze an existing measurement dataset and build data models to predict power consumption in 3 different zones in a city. \n",
    "\n",
    "The measurements database is comprised of 7 columns:\n",
    "1. DateTime\n",
    "2. Temperature \n",
    "3. Humidity\n",
    "4. Wind speed\n",
    "5. Zone 1 power consumption\n",
    "6. Zone 2 power consumption\n",
    "7. Zone 3 power consumption\n",
    " \n",
    "Temperature, humidity and Windspeed being the factors/inputs affecting the consumed powers (outputs) in the 3 different zones.  \n",
    "\n",
    "\n",
    "- Build an interface to allow users to enter input parameters and return an estimated power consumption.\n",
    "- Build an interface to allow users to add observations to the underlying database, and automatically update the data model to incorporate the new observations"
   ]
  },
  {
   "cell_type": "markdown",
   "metadata": {},
   "source": [
    "## Tasks: \n",
    "\n",
    "**Literature Research:**\n",
    "\n",
    "1. https://medium.com/mlearning-ai/predicting-electricity-consumption-using-weather-data-29d2a35e6ac9\n",
    "\n",
    "2. Hernández L, Baladrón C, Aguiar JM, Calavia L, Carro B, Sánchez-Esguevillas A, Cook DJ, Chinarro D, Gómez J. A Study of the Relationship between Weather Variables and Electric Power Demand inside a Smart Grid/Smart World Framework. Sensors (Basel). 2012 Aug 27;12(9):11571–91. doi: 10.3390/s120911571. PMCID: PMC3478798.\n",
    "https://www.ncbi.nlm.nih.gov/pmc/articles/PMC3478798/\n",
    "\n",
    "3. https://www.nrel.gov/docs/fy15osti/64297.pdf\n",
    "\n",
    "**Exploratory Data Analysis**\n",
    "- Describe the database. Include visualization of the database.\n",
    "- Reformat as needed (column headings perhaps) the database for subsequent analysis.\n",
    "- Create pairplots for all the columns except DateTime, make comments on your observation \n",
    "\n",
    "**Model Building**\n",
    "- Build 3 different data models to fit the power consumption for the 3 zones. For each zone:\n",
    "     - you should  determine which inputs strongly affect the power. \n",
    "     - Build 3 models using all input factors for 3 zones \n",
    "     - Assess data model quality (decide which model is best) including visualization tools \n",
    "- Build the input data interface for using the model\n",
    "- Using the model for each zone, determine projected power consumptions and an assessment of uncertainty for 3 weather conditions listed below:\n",
    "\n",
    "|Temperature|Humidity|Windspeed|\n",
    "|:---|:---|:---|\n",
    "|12.5|71.0|0.073|\n",
    "|21.8|85.2|0.068|\n",
    "|17.9|54.0|0.083|\n",
    "               \n",
    "       \n",
    "**Documentation**\n",
    "- Training and Project management video on how to use your tool, and demonstrate the tool(s) as they are run\n",
    "- Interim report (see deliverables below); this document must be rendered as a .pdf, Word template is in BlackBoard.\n",
    "- Final ipynb file (see deliverables below)"
   ]
  },
  {
   "cell_type": "markdown",
   "metadata": {},
   "source": [
    "## Deliverables:\n",
    "\n",
    "#### Part 1 Interim Report (due Dec 1):\n",
    "A report that briefly describes the project. Use the Interim Report Template in BlackBoard.   \n",
    "- Break down each task into manageable subtasks and describe how you intend to solve the subtasks and how you will test each task. (Perhaps make a simple Gantt Chart) or list of meeting times. \n",
    "- Address the responsibilities of each team member for tasks completed and tasks to be completed until the end of the semester. (Perhaps make explicit subtask assignments)  \n",
    "\n",
    "#### Part 2 Final Report (due Dec 10):\n",
    "- A well-documented JupyterLab (using a python kernel), use markdown cells and commenting for explanations and text. \n",
    "- A how-to video demonstrating performance and description of problems that you were not able to solve and also talk about project management such as who did what. Active participation of every single group member is mandatory in the presentation. \n",
    "- A final peer evaluation report, where each group member should rate the participation and contribution of the other members.\n",
    "\n",
    "**Above items can reside in a single video; but structure the video into the two parts; use an obvious transition when moving from \"how to ...\" into the project management portion.**  Keep the total video length to less than 10 minutes; submit as an *unlisted* YouTube video, and just supply the link (someone on each team is likely to have a YouTube creator account).  Keep in mind a 10 minute video can approach 100MB file size before compression, so it won't upload to Blackboard and cannot be emailed."
   ]
  },
  {
   "cell_type": "code",
   "execution_count": null,
   "metadata": {},
   "outputs": [],
   "source": []
  }
 ],
 "metadata": {
  "kernelspec": {
   "display_name": "Python 3 (ipykernel)",
   "language": "python",
   "name": "python3"
  },
  "language_info": {
   "codemirror_mode": {
    "name": "ipython",
    "version": 3
   },
   "file_extension": ".py",
   "mimetype": "text/x-python",
   "name": "python",
   "nbconvert_exporter": "python",
   "pygments_lexer": "ipython3",
   "version": "3.11.5"
  }
 },
 "nbformat": 4,
 "nbformat_minor": 4
}
